{
  "nbformat": 4,
  "nbformat_minor": 0,
  "metadata": {
    "colab": {
      "name": "Competitive-Programming.ipynb",
      "provenance": [],
      "collapsed_sections": [],
      "authorship_tag": "ABX9TyO+nHriusodLIe5FBEu7fjQ",
      "include_colab_link": true
    },
    "kernelspec": {
      "name": "python3",
      "display_name": "Python 3"
    }
  },
  "cells": [
    {
      "cell_type": "markdown",
      "metadata": {
        "id": "view-in-github",
        "colab_type": "text"
      },
      "source": [
        "<a href=\"https://colab.research.google.com/github/chexki/Competative_Programming/blob/master/Competitive_Programming.ipynb\" target=\"_parent\"><img src=\"https://colab.research.google.com/assets/colab-badge.svg\" alt=\"Open In Colab\"/></a>"
      ]
    },
    {
      "cell_type": "markdown",
      "metadata": {
        "id": "YHih2x4NMnB_",
        "colab_type": "text"
      },
      "source": [
        "### **Problem 1**"
      ]
    },
    {
      "cell_type": "code",
      "metadata": {
        "id": "O1CKwn3i8AGI",
        "colab_type": "code",
        "colab": {}
      },
      "source": [
        "list1 = [5555,4444,3333,2222,1111]\n",
        "list2 =[1095,1094,1095]"
      ],
      "execution_count": 0,
      "outputs": []
    },
    {
      "cell_type": "code",
      "metadata": {
        "id": "4J8dugKxGHhQ",
        "colab_type": "code",
        "colab": {}
      },
      "source": [
        "# Problem Statement =  In an Array by changing only one bit of integer form a new array in ascending order\n",
        "\n",
        "# Expected Output =    ['1555', '2444', '3133', '3222', '4111']\n",
        "#                      ['1015', '1024', '1025']"
      ],
      "execution_count": 0,
      "outputs": []
    },
    {
      "cell_type": "code",
      "metadata": {
        "id": "NGVgHPUa8OtT",
        "colab_type": "code",
        "colab": {}
      },
      "source": [
        "# Logic\n",
        "Consider we start from one.\n",
        "Check for the first element the lowest possible number changing all the values.\n"
      ],
      "execution_count": 0,
      "outputs": []
    },
    {
      "cell_type": "code",
      "metadata": {
        "id": "pUi2wncuFXRZ",
        "colab_type": "code",
        "colab": {}
      },
      "source": [
        "all_nums = ['1','2','3','4','5','6','7','8','9']\n",
        "def check_min(num):\n",
        "  temp_lst =[]\n",
        "  for a in range(0,len(num)):\n",
        "    new_num = list(num)\n",
        "    for b in all_nums:\n",
        "      new_num[a] = b\n",
        "      temp_lst.append(\"\".join(new_num))\n",
        "  return min(temp_lst),temp_lst "
      ],
      "execution_count": 0,
      "outputs": []
    },
    {
      "cell_type": "code",
      "metadata": {
        "id": "OCWVlMu48RD5",
        "colab_type": "code",
        "colab": {}
      },
      "source": [
        "def out_op(name_list):\n",
        "  main_op = []\n",
        "  for i,j in zip(name_list, range(0,len(name_list))):\n",
        "    if j == 0:\n",
        "      num = str(i)\n",
        "      possible_min,templst1 = check_min(num)\n",
        "      del templst1\n",
        "      main_op.append(possible_min)\n",
        "    else:\n",
        "      best_p,temp_lst =  check_min(str(i))\n",
        "      temp_lst.sort()\n",
        "      for y in temp_lst:\n",
        "        if y > main_op[-1]:\n",
        "          break\n",
        "      main_op.append(y)\n",
        "  return main_op"
      ],
      "execution_count": 0,
      "outputs": []
    },
    {
      "cell_type": "code",
      "metadata": {
        "id": "mgaFfRBnNvnd",
        "colab_type": "code",
        "colab": {}
      },
      "source": [
        "class order:\n",
        "    def __init__(self,input_array):\n",
        "        self.input_array = input_array\n",
        "\n",
        "    all_nums = ['1','2','3','4','5','6','7','8','9']\n",
        "    def check_min(num):\n",
        "        temp_lst =[]\n",
        "        for a in range(0,len(num)):\n",
        "            new_num = list(num)\n",
        "            for b in all_nums:\n",
        "                new_num[a] = b\n",
        "                temp_lst.append(\"\".join(new_num))\n",
        "        return min(temp_lst),temp_lst \n",
        "\n",
        "    def out_op(self):\n",
        "      main_op = []\n",
        "      for i,j in zip(self.input_array, range(0,len(self.input_array))):\n",
        "        if j == 0:\n",
        "          num = str(i)\n",
        "          possible_min,templst1 = check_min(num)\n",
        "          del templst1\n",
        "          main_op.append(possible_min)\n",
        "        else:\n",
        "          best_p,temp_lst =  check_min(str(i))\n",
        "          temp_lst.sort()\n",
        "          for y in temp_lst:\n",
        "            if y > main_op[-1]:\n",
        "              break\n",
        "          main_op.append(y)\n",
        "      return main_op"
      ],
      "execution_count": 0,
      "outputs": []
    },
    {
      "cell_type": "code",
      "metadata": {
        "id": "HdSCu2TEOZZm",
        "colab_type": "code",
        "colab": {}
      },
      "source": [
        "p1 = order(list1)"
      ],
      "execution_count": 0,
      "outputs": []
    },
    {
      "cell_type": "code",
      "metadata": {
        "id": "J4o3eC8SPx74",
        "colab_type": "code",
        "outputId": "e1443268-f737-4263-9105-1d41a8d37622",
        "colab": {
          "base_uri": "https://localhost:8080/",
          "height": 35
        }
      },
      "source": [
        "p1.out_op()"
      ],
      "execution_count": 0,
      "outputs": [
        {
          "output_type": "execute_result",
          "data": {
            "text/plain": [
              "['1555', '2444', '3133', '3222', '4111']"
            ]
          },
          "metadata": {
            "tags": []
          },
          "execution_count": 88
        }
      ]
    },
    {
      "cell_type": "code",
      "metadata": {
        "id": "6iRrxqDIHtil",
        "colab_type": "code",
        "colab": {}
      },
      "source": [
        "#########################################################################################################################################################"
      ],
      "execution_count": 0,
      "outputs": []
    },
    {
      "cell_type": "markdown",
      "metadata": {
        "id": "fnxwhVdHM62B",
        "colab_type": "text"
      },
      "source": [
        "### **Problem 2**"
      ]
    },
    {
      "cell_type": "code",
      "metadata": {
        "id": "w55qkz88NJAV",
        "colab_type": "code",
        "colab": {}
      },
      "source": [
        "list1 = [1,2,6,3,1,4]"
      ],
      "execution_count": 0,
      "outputs": []
    },
    {
      "cell_type": "code",
      "metadata": {
        "id": "T84p_1vPNNzz",
        "colab_type": "code",
        "colab": {}
      },
      "source": [
        "# Problem Statement =  Return number of elements present in the array which are not sorted.\n",
        "\n",
        "# Expected Output =    4"
      ],
      "execution_count": 0,
      "outputs": []
    },
    {
      "cell_type": "code",
      "metadata": {
        "id": "nLfOc6CMNbbo",
        "colab_type": "code",
        "colab": {}
      },
      "source": [
        "# Logic"
      ],
      "execution_count": 0,
      "outputs": []
    },
    {
      "cell_type": "code",
      "metadata": {
        "id": "eVz7KYKfNfR6",
        "colab_type": "code",
        "colab": {}
      },
      "source": [
        ""
      ],
      "execution_count": 0,
      "outputs": []
    }
  ]
}